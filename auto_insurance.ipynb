{
 "cells": [
  {
   "cell_type": "code",
   "execution_count": null,
   "metadata": {},
   "outputs": [],
   "source": [
    "!pip install mord\n",
    "import sys\n",
    "from IPython.core.interactiveshell import InteractiveShell\n",
    "import warnings\n",
    "import numpy as np # Array \n",
    "%matplotlib inline\n",
    "import pandas as pd #big data framework\n",
    "import matplotlib # data visualization\n",
    "import matplotlib.pyplot as plt\n",
    "import seaborn as sns #visualization\n",
    "from sklearn.manifold import TSNE #predictive modeling / Machine Learning\n",
    "import mord  # python3 -m pip install --user\n",
    "from sklearn import datasets, neighbors, linear_model\n",
    "from sklearn.preprocessing import StandardScaler\n",
    "from sklearn.metrics import confusion_matrix\n",
    "from sklearn.model_selection import train_test_split"
   ]
  },
  {
   "cell_type": "code",
   "execution_count": null,
   "metadata": {},
   "outputs": [],
   "source": [
    "df = pd.read_csv('/home/aswin/Documents/Friday/dataset_autoinsurance.csv')"
   ]
  },
  {
   "cell_type": "code",
   "execution_count": null,
   "metadata": {},
   "outputs": [],
   "source": [
    "df.describe().T"
   ]
  },
  {
   "cell_type": "code",
   "execution_count": null,
   "metadata": {},
   "outputs": [],
   "source": [
    "df.info()"
   ]
  },
  {
   "cell_type": "code",
   "execution_count": null,
   "metadata": {},
   "outputs": [],
   "source": [
    "df = df.drop(['sf_class_tpl', 'sf_class_fc'], axis=1)"
   ]
  },
  {
   "cell_type": "code",
   "execution_count": null,
   "metadata": {},
   "outputs": [],
   "source": [
    "def convert_number_of_payment_faults(s):\n",
    "   if s == '':\n",
    "       return 0\n",
    "   return min(int(s), 9)"
   ]
  },
  {
   "cell_type": "code",
   "execution_count": null,
   "metadata": {},
   "outputs": [],
   "source": [
    "print(df.number_of_payment_faults.value_counts().sort_index())"
   ]
  },
  {
   "cell_type": "code",
   "execution_count": null,
   "metadata": {},
   "outputs": [],
   "source": [
    "pd.get_dummies(df.tariff_type),\n",
    "pd.get_dummies(df.type_of_insurance),\n",
    "pd.get_dummies(df.comprehensive_product),\n",
    "pd.get_dummies(df.payment_interval),\n",
    "pd.get_dummies(df.insured_parties),\n",
    "pd.get_dummies(df.profession_group)"
   ]
  },
  {
   "cell_type": "code",
   "execution_count": null,
   "metadata": {},
   "outputs": [],
   "source": [
    "X = df[[col for col in df.columns if col != 'number_of_payment_faults']]"
   ]
  },
  {
   "cell_type": "code",
   "execution_count": null,
   "metadata": {},
   "outputs": [],
   "source": [
    "y = df['number_of_payment_faults']"
   ]
  },
  {
   "cell_type": "code",
   "execution_count": null,
   "metadata": {},
   "outputs": [],
   "source": [
    "standard_scaler = StandardScaler()\n",
    "df = standard_scaler.fit_transform(X)\n",
    "tsne = TSNE(n_components=2, random_state=0)\n",
    "x_test_2d = tsne.fit_transform(df)\n",
    "#Build the scatter plot with the two types of transactions.\n",
    "color_map = {0:'red', 1:'blue'}\n",
    "plt.figure()\n",
    "for idx, cl in enumerate(np.unique(y)):\n",
    "   plt.scatter(x = x_test_2d[y==cl,0], y = x_test_2d[y==cl,1], c = color_map[idx], label = cl)\n",
    "plt.xlabel('X in t-SNE')\n",
    "plt.ylabel('Y in t-SNE')\n",
    "plt.legend(loc='upper right')\n",
    "plt.title('t-SNE visualization of train data')\n",
    "plt.show()"
   ]
  },
  {
   "cell_type": "code",
   "execution_count": null,
   "metadata": {},
   "outputs": [],
   "source": [
    "df.number_of_payment_faults = 1*(df.number_of_payment_faults > 0)\n",
    "\n",
    "defaulters = df[df[\"number_of_payment_faults\"] == 1]\n",
    "non_defaulters = df[df[\"number_of_payment_faults\"] == 0]\n",
    "\n",
    "defaulters[\"Defaulter\"] = defaulters[\"car_age_contract_start\"]\n",
    "non_defaulters[\"Non Defaulter\"] = non_defaulters[\"car_age_contract_start\"]\n",
    "f, ax = plt.subplots(figsize=(12, 6))\n",
    "ax = sns.kdeplot(defaulters[\"Defaulter\"], shade=True, color=\"r\")\n",
    "ax = sns.kdeplot(non_defaulters[\"Non Defaulter\"], shade=True, color=\"b\")"
   ]
  },
  {
   "cell_type": "code",
   "execution_count": null,
   "metadata": {},
   "outputs": [],
   "source": [
    "model = mord.LogisticAT()\n",
    "fitted = model.fit(X, y)\n",
    "print_coefs(fitted)\n",
    "X_train, X_test, y_train, y_test = train_test_split(\n",
    "   X, y, test_size=0.33, random_state=42)\n",
    "fitted = model.fit(X_train, y_train)\n",
    "print(fitted.coef_)\n",
    "y_predictions = pd.Series(fitted.predict(X_test))\n",
    "print('y_train.value_counts().sort_index()')\n",
    "print('y_predictions.value_counts().sort_index()')\n",
    "print('y_test.value_counts().sort_index()')\n",
    "cm = confusion_matrix(y_test, y_predictions)\n",
    "print(cm)"
   ]
  },
  {
   "cell_type": "code",
   "execution_count": null,
   "metadata": {},
   "outputs": [],
   "source": [
    "X_train, X_test, y_train, y_test = train_test_split(\n",
    "   X, y, test_size=0.33, random_state=42)"
   ]
  },
  {
   "cell_type": "code",
   "execution_count": null,
   "metadata": {},
   "outputs": [],
   "source": [
    "model = neighbors.KNeighborsClassifier()\n",
    "fitted = model.fit(X, y)\n",
    "knn = neighbors.KNeighborsClassifier()\n",
    "logistic = linear_model.LogisticRegression(solver='lbfgs', max_iter=1000,                                     multi_class='multinomial')\n",
    "print('KNN score: %f' % knn.fit(X_train, y_train).score(X_test, y_test))\n",
    "print('LogisticRegression score: %f'\n",
    "     % logistic.fit(X_train, y_train).score(X_test, y_test))\n",
    "predictions_1 = logistic.predict(X_test[0:1000])\n",
    "pd.Series(predictions_1).value_counts()\n",
    "print('y_train.value_counts().sort_index()')\n",
    "print('y_predictions.value_counts().sort_index()')\n",
    "print('y_test.value_counts().sort_index()')"
   ]
  },
  {
   "cell_type": "code",
   "execution_count": null,
   "metadata": {},
   "outputs": [],
   "source": [
    "from keras.layers import Dense\n",
    "from tensorflow.keras.models import Sequential\n",
    "from keras.callbacks import EarlyStopping\n",
    "from tensorflow.keras import backend\n",
    "from sklearn.utils import class_weight\n",
    "from tensorflow.python.keras.models import Sequential"
   ]
  },
  {
   "cell_type": "code",
   "execution_count": null,
   "metadata": {},
   "outputs": [],
   "source": [
    "predictors = X.as_matrix()\n",
    "predictors = StandardScaler().fit_transform(predictors)\n",
    "target = to_categorical(data['number_of_payment_faults'])"
   ]
  },
  {
   "cell_type": "code",
   "execution_count": null,
   "metadata": {},
   "outputs": [],
   "source": [
    "model = Sequential()\n",
    "# The Input Layer :\n",
    "model.add(Dense(128, kernel_initializer='normal',input_dim = X_train.shape[1], activation='relu'))\n",
    "# The Hidden Layers :\n",
    "model.add(Dense(128, kernel_initializer='normal',activation='relu'))\n",
    "model.add(Dense(64, kernel_initializer='normal',activation='relu'))\n",
    "model.add(Dense(32, kernel_initializer='normal',activation='relu'))\n",
    "model.add(Dense(16, kernel_initializer='normal',activation='relu'))\n",
    "# The Output Layer :\n",
    "model.add(Dense(1, kernel_initializer='normal',activation='linear'))\n",
    "# Compile the network :\n",
    "model.compile(loss='mean_squared_error', optimizer='adam')\n",
    "# checkpoint\n",
    "checkpoint = ModelCheckpoint(\"simple_model.hdf5\", monitor='val_loss', verbose=2, save_best_only=True, mode='min')\n",
    "callbacks_list = [checkpoint] # fit network\n",
    "history = model.fit(X_train, y_train, epochs=20, batch_size=512,\n",
    "                        validation_data=(X_test, y_test), verbose=1, shuffle=False,\n",
    "                        callbacks=callbacks_list)"
   ]
  },
  {
   "cell_type": "code",
   "execution_count": null,
   "metadata": {},
   "outputs": [],
   "source": []
  }
 ],
 "metadata": {
  "kernelspec": {
   "display_name": "Python 3",
   "language": "python",
   "name": "python3"
  },
  "language_info": {
   "codemirror_mode": {
    "name": "ipython",
    "version": 3
   },
   "file_extension": ".py",
   "mimetype": "text/x-python",
   "name": "python",
   "nbconvert_exporter": "python",
   "pygments_lexer": "ipython3",
   "version": "3.7.3"
  }
 },
 "nbformat": 4,
 "nbformat_minor": 2
}
